{
 "cells": [
  {
   "cell_type": "markdown",
   "id": "constitutional-latex",
   "metadata": {},
   "source": [
    "### Data acquisition and preprocessing for pollutants \n",
    " - lead, ozone, pm2.5"
   ]
  },
  {
   "cell_type": "markdown",
   "id": "gothic-reader",
   "metadata": {},
   "source": [
    "### imports"
   ]
  },
  {
   "cell_type": "code",
   "execution_count": 58,
   "id": "arabic-kansas",
   "metadata": {},
   "outputs": [],
   "source": [
    "import pandas as pd\n",
    "import numpy as np\n",
    "import seaborn as sns\n",
    "import matplotlib.pyplot as plt\n",
    "import pickle\n",
    "import requests as rq\n",
    "from urllib.request import urlopen\n",
    "import json\n",
    "import os\n",
    "import pathlib\n",
    "import plotly.express as px\n",
    "%matplotlib inline"
   ]
  },
  {
   "cell_type": "code",
   "execution_count": 2,
   "id": "acquired-marathon",
   "metadata": {},
   "outputs": [],
   "source": [
    "# pandas formatting \n",
    "pd.set_option(\"display.max_rows\", 500)\n",
    "pd.set_option('display.max_columns', 500)\n",
    "pd.set_option('display.width', 1000)"
   ]
  },
  {
   "cell_type": "markdown",
   "id": "soviet-trunk",
   "metadata": {},
   "source": [
    "### functions"
   ]
  },
  {
   "cell_type": "code",
   "execution_count": 48,
   "id": "proper-porter",
   "metadata": {},
   "outputs": [],
   "source": [
    "# functions\n",
    "\n",
    "def FIPS_function(row):\n",
    "    state = str(row['State Code']).zfill(2)\n",
    "    county = str(row['County Code']).zfill(3)\n",
    "    return str(state + county)\n",
    "# convert to NO2 ug/m^3 for reference\n",
    "def no2_mass_by_vol(ppb):\n",
    "    ugm3 = 1.88*ppb\n",
    "    return ugm3\n",
    "\n",
    "def set_daily_cases_deaths(df):\n",
    "    df['daily_new_cases'] = df['JHU_ConfirmedCases.data'].diff()\n",
    "    df['daily_new_deaths'] = df['JHU_ConfirmedDeaths.data'].diff()\n",
    "    return df\n",
    "\n",
    "# plotting one day's avg \n",
    "def show_day_mean(df, date):\n",
    "    fig = px.choropleth(df[df['Date Local']==date], geojson=counties, locations='fips', color='Arithmetic Mean',\n",
    "                               color_continuous_scale=\"Plasma\",\n",
    "                               range_color=(0, 70), #max value for daily avg is ~60ppb\n",
    "                               scope=\"usa\",\n",
    "                               labels={'Arithmetic Mean':'Arithmetic Mean (ppb)'}\n",
    "                              )\n",
    "    fig.update_layout(margin={\"r\":0,\"t\":0,\"l\":0,\"b\":1,'autoexpand':True })\n",
    "    fig.update_layout(\n",
    "        autosize=False,\n",
    "        width=1200,\n",
    "        height=900,\n",
    "    )\n",
    "    return fig\n",
    "\n",
    "# plotting one day's max value\n",
    "def show_day_max(df, date):\n",
    "    fig = px.choropleth(df[df['Date Local']==date], geojson=counties, locations='fips', color='1st Max Value',\n",
    "                               color_continuous_scale=\"Plasma\",\n",
    "                               range_color=(0, 70), #max value for daily avg is ~60ppb\n",
    "                               scope=\"usa\",\n",
    "                               labels={'1st Max Value':'1st Max Value (ppb)'}\n",
    "                              )\n",
    "    fig.update_layout(margin={\"r\":0,\"t\":0,\"l\":0,\"b\":1,'autoexpand':True })\n",
    "    fig.update_layout(\n",
    "        autosize=False,\n",
    "        width=1200,\n",
    "        height=900,\n",
    "    )\n",
    "    return fig  \n",
    "\n",
    "def show_sites(df):\n",
    "    fig = px.choropleth(df, geojson=counties, locations='fips', color='Parameter Code',\n",
    "                               color_continuous_scale=\"Plasma\",\n",
    "                               range_color=(0, 1), #max value for daily avg is ~60ppb\n",
    "                               scope=\"usa\",\n",
    "                               labels={'1st Max Value':'1st Max Value (ppb)'}\n",
    "                              )\n",
    "    fig.update_layout(margin={\"r\":0,\"t\":0,\"l\":0,\"b\":1,'autoexpand':True })\n",
    "    fig.update_layout(\n",
    "        autosize=False,\n",
    "        width=1200,\n",
    "        height=900,\n",
    "    )\n",
    "    return fig\n",
    "\n",
    "def get_counties_df(file_name='./data/covid/config/counties.json'):\n",
    "    with open(file_name) as file:\n",
    "                county_data = json.load(file)\n",
    "    \n",
    "    df = pd.DataFrame.from_dict(county_data)\n",
    "    \n",
    "    data = [df[col] for col in df.columns]    \n",
    "    \n",
    "    # pivot\n",
    "    return pd.DataFrame(data,columns=df.index, index=df.columns)\n",
    "\n",
    "def get_fips_from_county_lookup():\n",
    "    counties = get_counties_df() \n",
    "    counties = counties.dropna(subset=['fips'])\n",
    "    counties.fips = counties.fips.apply(lambda f: eval(str(f)).get('id'))\n",
    "    counties_index = {k: v for k, v in zip(counties.index, counties.fips)}\n",
    "    def get_fips_from_county(county):\n",
    "        return counties_index[county]\n",
    "    return get_fips_from_county\n",
    "\n",
    "def avg_county_pollution(df, column_to_avg = \"Arithmetic Mean\", date_column=None):    \n",
    "    if date_column == None:\n",
    "        date_column = 'Date Local'\n",
    "    # All days \n",
    "    # days = list(df[date_column].unique())\n",
    "    # all_fips = list(df['fips'].unique())\n",
    "    avg_by_day = df.groupby(['Date Local','fips']).agg({'Arithmetic Mean': 'mean','1st Max Value':'max','AQI':'max'})\n",
    "    return avg_by_day\n",
    "\n",
    "def cols_missing(df):\n",
    "    total = 0\n",
    "    for col in df.columns:\n",
    "        missing_vals = df[col].isnull().sum()\n",
    "        total += missing_vals\n",
    "        pct = df[col].isna().mean() * 100\n",
    "        if missing_vals != 0:\n",
    "            print(f\"{col} = {df[col].isnull().sum()}\",'--','{} = {}%'.format(col, round(pct, 2)))\n",
    "    if total == 0:\n",
    "        print(\"no missing values left\")\n",
    "        \n",
    "def print_outliers(df,col):\n",
    "    print(col)\n",
    "    #print(df[col].describe())\n",
    "    print('Min: ',df[col].min())\n",
    "    print('1st quartile: ',df[col].quantile(0.25))\n",
    "    print('3rd quartile: ',df[col].quantile(0.75))\n",
    "    print('Max: ',df[col].max())\n",
    "    #print(sns.boxplot(x=df[col]))"
   ]
  },
  {
   "cell_type": "markdown",
   "id": "egyptian-duplicate",
   "metadata": {},
   "source": [
    "### import data"
   ]
  },
  {
   "cell_type": "code",
   "execution_count": 59,
   "id": "played-effectiveness",
   "metadata": {},
   "outputs": [],
   "source": [
    "#pm2.5 speciation\n",
    "og_pm19 = pd.read_csv('data/daily_pm25_2019_FIPS.csv', dtype={'fips':'string'})\n",
    "og_pm20 = pd.read_csv('data/daily_pm25_2020_FIPS.csv', dtype={'fips':'string'})\n",
    "og_pm21 = pd.read_csv('data/daily_pm25_2021_FIPS.csv', dtype={'fips':'string'})\n",
    "\n",
    "#lead\n",
    "og_lead19 = pd.read_csv('data/daily_lead_2019_FIPS.csv', dtype={'fips':'string'})\n",
    "og_lead20 = pd.read_csv('data/daily_lead_2020_FIPS.csv', dtype={'fips':'string'})\n",
    "og_lead21 = pd.read_csv('data/daily_lead_2021_FIPS.csv', dtype={'fips':'string'})\n",
    "\n",
    "#ozone\n",
    "og_ozone19 = pd.read_csv('data/daily_ozone_2019_FIPS.csv', dtype={'fips':'string'})\n",
    "og_ozone20 = pd.read_csv('data/daily_ozone_2020_FIPS.csv', dtype={'fips':'string'})\n",
    "og_ozone21 = pd.read_csv('data/daily_ozone_2021_FIPS.csv', dtype={'fips':'string'})"
   ]
  },
  {
   "cell_type": "markdown",
   "id": "under-generation",
   "metadata": {},
   "source": [
    "### dropping columns"
   ]
  },
  {
   "cell_type": "code",
   "execution_count": 63,
   "id": "offshore-ecology",
   "metadata": {},
   "outputs": [],
   "source": [
    "#dropping \n",
    "cols_to_drop = ['Pollutant Standard','POC','Parameter Code','Parameter Name','Sample Duration'\n",
    "               , 'Method Code','Method Name','City Name','Date of Last Change']\n",
    "#datum?"
   ]
  },
  {
   "cell_type": "code",
   "execution_count": null,
   "id": "great-meeting",
   "metadata": {},
   "outputs": [],
   "source": []
  },
  {
   "cell_type": "markdown",
   "id": "norwegian-grain",
   "metadata": {},
   "source": [
    "### pm2.5 quick look"
   ]
  },
  {
   "cell_type": "code",
   "execution_count": 64,
   "id": "political-concentrate",
   "metadata": {
    "scrolled": false
   },
   "outputs": [
    {
     "name": "stdout",
     "output_type": "stream",
     "text": [
      "2019 ---> (540932, 21)  2020 --->  (554830, 21)  2021 --->  (55498, 21) \n",
      "\n",
      "Columns:  Index(['State Code', 'County Code', 'Site Num', 'Latitude', 'Longitude', 'Datum', 'Date Local', 'Units of Measure', 'Event Type', 'Observation Count', 'Observation Percent', 'Arithmetic Mean', '1st Max Value', '1st Max Hour', 'AQI', 'Local Site Name', 'Address', 'State Name', 'County Name', 'CBSA Name', 'fips'], dtype='object')\n"
     ]
    },
    {
     "data": {
      "text/html": [
       "<div>\n",
       "<style scoped>\n",
       "    .dataframe tbody tr th:only-of-type {\n",
       "        vertical-align: middle;\n",
       "    }\n",
       "\n",
       "    .dataframe tbody tr th {\n",
       "        vertical-align: top;\n",
       "    }\n",
       "\n",
       "    .dataframe thead th {\n",
       "        text-align: right;\n",
       "    }\n",
       "</style>\n",
       "<table border=\"1\" class=\"dataframe\">\n",
       "  <thead>\n",
       "    <tr style=\"text-align: right;\">\n",
       "      <th></th>\n",
       "      <th>State Code</th>\n",
       "      <th>County Code</th>\n",
       "      <th>Site Num</th>\n",
       "      <th>Latitude</th>\n",
       "      <th>Longitude</th>\n",
       "      <th>Datum</th>\n",
       "      <th>Date Local</th>\n",
       "      <th>Units of Measure</th>\n",
       "      <th>Event Type</th>\n",
       "      <th>Observation Count</th>\n",
       "      <th>Observation Percent</th>\n",
       "      <th>Arithmetic Mean</th>\n",
       "      <th>1st Max Value</th>\n",
       "      <th>1st Max Hour</th>\n",
       "      <th>AQI</th>\n",
       "      <th>Local Site Name</th>\n",
       "      <th>Address</th>\n",
       "      <th>State Name</th>\n",
       "      <th>County Name</th>\n",
       "      <th>CBSA Name</th>\n",
       "      <th>fips</th>\n",
       "    </tr>\n",
       "  </thead>\n",
       "  <tbody>\n",
       "    <tr>\n",
       "      <th>0</th>\n",
       "      <td>1</td>\n",
       "      <td>3</td>\n",
       "      <td>10</td>\n",
       "      <td>30.497478</td>\n",
       "      <td>-87.880258</td>\n",
       "      <td>NAD83</td>\n",
       "      <td>2019-01-03</td>\n",
       "      <td>Micrograms/cubic meter (LC)</td>\n",
       "      <td>None</td>\n",
       "      <td>1</td>\n",
       "      <td>100.0</td>\n",
       "      <td>4.3</td>\n",
       "      <td>4.3</td>\n",
       "      <td>0</td>\n",
       "      <td>18.0</td>\n",
       "      <td>FAIRHOPE, Alabama</td>\n",
       "      <td>FAIRHOPE HIGH SCHOOL, 1 PIRATE DRIVE, FAIRHOPE...</td>\n",
       "      <td>Alabama</td>\n",
       "      <td>Baldwin</td>\n",
       "      <td>Daphne-Fairhope-Foley, AL</td>\n",
       "      <td>01003</td>\n",
       "    </tr>\n",
       "  </tbody>\n",
       "</table>\n",
       "</div>"
      ],
      "text/plain": [
       "   State Code  County Code  Site Num   Latitude  Longitude  Datum  Date Local             Units of Measure Event Type  Observation Count  Observation Percent  Arithmetic Mean  1st Max Value  1st Max Hour   AQI    Local Site Name                                            Address State Name County Name                  CBSA Name   fips\n",
       "0           1            3        10  30.497478 -87.880258  NAD83  2019-01-03  Micrograms/cubic meter (LC)       None                  1                100.0              4.3            4.3             0  18.0  FAIRHOPE, Alabama  FAIRHOPE HIGH SCHOOL, 1 PIRATE DRIVE, FAIRHOPE...    Alabama     Baldwin  Daphne-Fairhope-Foley, AL  01003"
      ]
     },
     "execution_count": 64,
     "metadata": {},
     "output_type": "execute_result"
    }
   ],
   "source": [
    "pm19 = og_pm19.drop(cols_to_drop, axis=1)\n",
    "pm20 = og_pm20.drop(cols_to_drop, axis=1)\n",
    "pm21 = og_pm21.drop(cols_to_drop, axis=1)\n",
    "\n",
    "\n",
    "print('2019 --->', pm19.shape,' 2020 ---> ',pm20.shape,' 2021 ---> ',pm21.shape,'\\n')\n",
    "print('Columns: ',pm19.columns)\n",
    "pm19.head(1)"
   ]
  },
  {
   "cell_type": "markdown",
   "id": "proper-horror",
   "metadata": {},
   "source": [
    "### pm2.5 missing data with count and % of missing"
   ]
  },
  {
   "cell_type": "code",
   "execution_count": 65,
   "id": "supported-marks",
   "metadata": {
    "scrolled": true
   },
   "outputs": [
    {
     "name": "stdout",
     "output_type": "stream",
     "text": [
      "--- pm2.5 2019 missing: ---\n",
      "AQI = 230965 -- AQI = 42.7%\n",
      "Local Site Name = 27587 -- Local Site Name = 5.1%\n",
      "CBSA Name = 44318 -- CBSA Name = 8.19%\n",
      "None\n",
      " \n",
      " --- pm2.5 2020 missing: ---\n",
      "AQI = 243459 -- AQI = 43.88%\n",
      "Local Site Name = 29791 -- Local Site Name = 5.37%\n",
      "Address = 265 -- Address = 0.05%\n",
      "CBSA Name = 43876 -- CBSA Name = 7.91%\n",
      "None\n",
      "\n",
      " --- pm2.5 2021 missing: ---\n",
      "AQI = 24524 -- AQI = 44.19%\n",
      "Local Site Name = 3858 -- Local Site Name = 6.95%\n",
      "CBSA Name = 5329 -- CBSA Name = 9.6%\n",
      "None\n"
     ]
    }
   ],
   "source": [
    "#missing\n",
    "print('--- pm2.5 2019 missing: ---')\n",
    "print(cols_missing(pm19))\n",
    "        \n",
    "print(' \\n --- pm2.5 2020 missing: ---')\n",
    "print(cols_missing(pm20))\n",
    "\n",
    "print('\\n --- pm2.5 2021 missing: ---')\n",
    "print(cols_missing(pm21))"
   ]
  },
  {
   "cell_type": "code",
   "execution_count": 37,
   "id": "indoor-radiation",
   "metadata": {},
   "outputs": [],
   "source": [
    "# drop columns/rows if na \n",
    "\n",
    "#pm19['Arithmetic Mean'].dropna(inplace=True)\n",
    "#pm20['Arithmetic Mean'].dropna(inplace=True)\n",
    "#pm21['Arithmetic Mean'].dropna(inplace=True)"
   ]
  },
  {
   "cell_type": "code",
   "execution_count": null,
   "id": "previous-salem",
   "metadata": {},
   "outputs": [],
   "source": [
    "#reduce memory usage\n",
    "\n",
    "#change int64 to int32\n",
    "#pm19['Arithmetic Mean'] = pm19['Arithmetic Mean'].astype('int32')"
   ]
  },
  {
   "cell_type": "markdown",
   "id": "italic-recall",
   "metadata": {},
   "source": [
    "### pm25 outliers in artihmetic mean"
   ]
  },
  {
   "cell_type": "code",
   "execution_count": 66,
   "id": "scientific-sydney",
   "metadata": {},
   "outputs": [
    {
     "name": "stdout",
     "output_type": "stream",
     "text": [
      "pm19: \n",
      "Arithmetic Mean\n",
      "Min:  -6.722222\n",
      "1st quartile:  4.1375\n",
      "3rd quartile:  9.4\n",
      "Max:  327.0\n",
      "None\n",
      "\n",
      " pm20: \n",
      "Arithmetic Mean\n",
      "Min:  -5.0\n",
      "1st quartile:  4.3\n",
      "3rd quartile:  9.5\n",
      "Max:  824.104167\n",
      "None\n",
      "\n",
      " pm21: \n",
      "Arithmetic Mean\n",
      "Min:  -3.3125\n",
      "1st quartile:  4.416667\n",
      "3rd quartile:  10.7125\n",
      "Max:  222.420833\n",
      "None\n"
     ]
    }
   ],
   "source": [
    "#outliers\n",
    "outlier_check = ['Arithmetic Mean']\n",
    "\n",
    "for i in outlier_check:\n",
    "    print('pm19: ');print(print_outliers(pm19,i))\n",
    "    print('\\n pm20: ');print(print_outliers(pm20,i))\n",
    "    print('\\n pm21: ');print(print_outliers(pm21,i))"
   ]
  },
  {
   "cell_type": "markdown",
   "id": "handled-preference",
   "metadata": {},
   "source": [
    "# Lead quick look"
   ]
  },
  {
   "cell_type": "code",
   "execution_count": 67,
   "id": "beautiful-settle",
   "metadata": {
    "scrolled": false
   },
   "outputs": [
    {
     "name": "stdout",
     "output_type": "stream",
     "text": [
      "2019 --->  (12938, 21)  2020 --->  (10165, 21)  2021 --->  (442, 21) \n",
      "\n",
      "Columns:  Index(['State Code', 'County Code', 'Site Num', 'Latitude', 'Longitude', 'Datum', 'Date Local', 'Units of Measure', 'Event Type', 'Observation Count', 'Observation Percent', 'Arithmetic Mean', '1st Max Value', '1st Max Hour', 'AQI', 'Local Site Name', 'Address', 'State Name', 'County Name', 'CBSA Name', 'fips'], dtype='object')\n"
     ]
    },
    {
     "data": {
      "text/html": [
       "<div>\n",
       "<style scoped>\n",
       "    .dataframe tbody tr th:only-of-type {\n",
       "        vertical-align: middle;\n",
       "    }\n",
       "\n",
       "    .dataframe tbody tr th {\n",
       "        vertical-align: top;\n",
       "    }\n",
       "\n",
       "    .dataframe thead th {\n",
       "        text-align: right;\n",
       "    }\n",
       "</style>\n",
       "<table border=\"1\" class=\"dataframe\">\n",
       "  <thead>\n",
       "    <tr style=\"text-align: right;\">\n",
       "      <th></th>\n",
       "      <th>State Code</th>\n",
       "      <th>County Code</th>\n",
       "      <th>Site Num</th>\n",
       "      <th>Latitude</th>\n",
       "      <th>Longitude</th>\n",
       "      <th>Datum</th>\n",
       "      <th>Date Local</th>\n",
       "      <th>Units of Measure</th>\n",
       "      <th>Event Type</th>\n",
       "      <th>Observation Count</th>\n",
       "      <th>Observation Percent</th>\n",
       "      <th>Arithmetic Mean</th>\n",
       "      <th>1st Max Value</th>\n",
       "      <th>1st Max Hour</th>\n",
       "      <th>AQI</th>\n",
       "      <th>Local Site Name</th>\n",
       "      <th>Address</th>\n",
       "      <th>State Name</th>\n",
       "      <th>County Name</th>\n",
       "      <th>CBSA Name</th>\n",
       "      <th>fips</th>\n",
       "    </tr>\n",
       "  </thead>\n",
       "  <tbody>\n",
       "    <tr>\n",
       "      <th>0</th>\n",
       "      <td>1</td>\n",
       "      <td>109</td>\n",
       "      <td>3</td>\n",
       "      <td>31.790479</td>\n",
       "      <td>-85.978974</td>\n",
       "      <td>NAD83</td>\n",
       "      <td>2019-01-03</td>\n",
       "      <td>Micrograms/cubic meter (LC)</td>\n",
       "      <td>None</td>\n",
       "      <td>1</td>\n",
       "      <td>100.0</td>\n",
       "      <td>0.039</td>\n",
       "      <td>0.039</td>\n",
       "      <td>0</td>\n",
       "      <td>NaN</td>\n",
       "      <td>TROY LEAD</td>\n",
       "      <td>HENDERSON ROAD</td>\n",
       "      <td>Alabama</td>\n",
       "      <td>Pike</td>\n",
       "      <td>Troy, AL</td>\n",
       "      <td>01109</td>\n",
       "    </tr>\n",
       "  </tbody>\n",
       "</table>\n",
       "</div>"
      ],
      "text/plain": [
       "   State Code  County Code  Site Num   Latitude  Longitude  Datum  Date Local             Units of Measure Event Type  Observation Count  Observation Percent  Arithmetic Mean  1st Max Value  1st Max Hour  AQI Local Site Name         Address State Name County Name CBSA Name   fips\n",
       "0           1          109         3  31.790479 -85.978974  NAD83  2019-01-03  Micrograms/cubic meter (LC)       None                  1                100.0            0.039          0.039             0  NaN       TROY LEAD  HENDERSON ROAD    Alabama        Pike  Troy, AL  01109"
      ]
     },
     "execution_count": 67,
     "metadata": {},
     "output_type": "execute_result"
    }
   ],
   "source": [
    "lead19 = og_lead19.drop(columns=cols_to_drop,axis=1)\n",
    "lead20 = og_lead20.drop(columns=cols_to_drop,axis=1)\n",
    "lead21 = og_lead21.drop(columns=cols_to_drop,axis=1)\n",
    "\n",
    "print('2019 ---> ', lead19.shape,' 2020 ---> ',lead20.shape,' 2021 ---> ',lead21.shape,'\\n')\n",
    "print('Columns: ',lead19.columns)\n",
    "lead19.head(1)"
   ]
  },
  {
   "cell_type": "markdown",
   "id": "permanent-wealth",
   "metadata": {},
   "source": [
    "### lead missing data with counts and %"
   ]
  },
  {
   "cell_type": "code",
   "execution_count": 68,
   "id": "affected-disco",
   "metadata": {
    "scrolled": true
   },
   "outputs": [
    {
     "name": "stdout",
     "output_type": "stream",
     "text": [
      "--- lead 2019 missing: ---\n",
      "AQI = 12938 -- AQI = 100.0%\n",
      "Local Site Name = 1698 -- Local Site Name = 13.12%\n",
      "CBSA Name = 1018 -- CBSA Name = 7.87%\n",
      "None\n",
      " \n",
      " --- lead 2020 missing: ---\n",
      "AQI = 10165 -- AQI = 100.0%\n",
      "Local Site Name = 1375 -- Local Site Name = 13.53%\n",
      "CBSA Name = 1004 -- CBSA Name = 9.88%\n",
      "None\n",
      "\n",
      " --- lead 2021 missing: ---\n",
      "AQI = 442 -- AQI = 100.0%\n",
      "Local Site Name = 29 -- Local Site Name = 6.56%\n",
      "CBSA Name = 47 -- CBSA Name = 10.63%\n",
      "None\n"
     ]
    }
   ],
   "source": [
    "print('--- lead 2019 missing: ---')\n",
    "print(cols_missing(lead19))\n",
    "        \n",
    "print(' \\n --- lead 2020 missing: ---')\n",
    "print(cols_missing(lead20))\n",
    "\n",
    "print('\\n --- lead 2021 missing: ---')\n",
    "print(cols_missing(lead21))"
   ]
  },
  {
   "cell_type": "code",
   "execution_count": null,
   "id": "indie-remedy",
   "metadata": {},
   "outputs": [],
   "source": [
    "# drop columns/rows\n",
    "# reduce memory?"
   ]
  },
  {
   "cell_type": "markdown",
   "id": "distinct-round",
   "metadata": {},
   "source": [
    "### lead outliers in arithmetic mean"
   ]
  },
  {
   "cell_type": "code",
   "execution_count": 70,
   "id": "thick-bleeding",
   "metadata": {},
   "outputs": [
    {
     "name": "stdout",
     "output_type": "stream",
     "text": [
      "lead19: \n",
      "Arithmetic Mean\n",
      "Min:  0.0\n",
      "1st quartile:  0.0026\n",
      "3rd quartile:  0.018\n",
      "Max:  1.991\n",
      "None\n",
      "\n",
      " lead20: \n",
      "Arithmetic Mean\n",
      "Min:  0.0\n",
      "1st quartile:  0.003\n",
      "3rd quartile:  0.019\n",
      "Max:  1.202\n",
      "None\n",
      "\n",
      " lead21: \n",
      "Arithmetic Mean\n",
      "Min:  0.001\n",
      "1st quartile:  0.002\n",
      "3rd quartile:  0.01\n",
      "Max:  0.228\n",
      "None\n"
     ]
    }
   ],
   "source": [
    "# #outliers\n",
    "outlier_check = ['Arithmetic Mean']\n",
    "\n",
    "for i in outlier_check:\n",
    "    print('lead19: ');print(print_outliers(lead19,i))\n",
    "    print('\\n lead20: ');print(print_outliers(lead20,i))\n",
    "    print('\\n lead21: ');print(print_outliers(lead21,i))"
   ]
  },
  {
   "cell_type": "markdown",
   "id": "invalid-highland",
   "metadata": {},
   "source": [
    "# ozone quick look"
   ]
  },
  {
   "cell_type": "code",
   "execution_count": 71,
   "id": "gorgeous-science",
   "metadata": {},
   "outputs": [
    {
     "name": "stdout",
     "output_type": "stream",
     "text": [
      "2019 --->  (392252, 21)  2020 --->  (391923, 21)  2021 --->  (37694, 21) \n",
      "\n",
      "Columns:  Index(['State Code', 'County Code', 'Site Num', 'Latitude', 'Longitude', 'Datum', 'Date Local', 'Units of Measure', 'Event Type', 'Observation Count', 'Observation Percent', 'Arithmetic Mean', '1st Max Value', '1st Max Hour', 'AQI', 'Local Site Name', 'Address', 'State Name', 'County Name', 'CBSA Name', 'fips'], dtype='object')\n"
     ]
    },
    {
     "data": {
      "text/html": [
       "<div>\n",
       "<style scoped>\n",
       "    .dataframe tbody tr th:only-of-type {\n",
       "        vertical-align: middle;\n",
       "    }\n",
       "\n",
       "    .dataframe tbody tr th {\n",
       "        vertical-align: top;\n",
       "    }\n",
       "\n",
       "    .dataframe thead th {\n",
       "        text-align: right;\n",
       "    }\n",
       "</style>\n",
       "<table border=\"1\" class=\"dataframe\">\n",
       "  <thead>\n",
       "    <tr style=\"text-align: right;\">\n",
       "      <th></th>\n",
       "      <th>State Code</th>\n",
       "      <th>County Code</th>\n",
       "      <th>Site Num</th>\n",
       "      <th>Latitude</th>\n",
       "      <th>Longitude</th>\n",
       "      <th>Datum</th>\n",
       "      <th>Date Local</th>\n",
       "      <th>Units of Measure</th>\n",
       "      <th>Event Type</th>\n",
       "      <th>Observation Count</th>\n",
       "      <th>Observation Percent</th>\n",
       "      <th>Arithmetic Mean</th>\n",
       "      <th>1st Max Value</th>\n",
       "      <th>1st Max Hour</th>\n",
       "      <th>AQI</th>\n",
       "      <th>Local Site Name</th>\n",
       "      <th>Address</th>\n",
       "      <th>State Name</th>\n",
       "      <th>County Name</th>\n",
       "      <th>CBSA Name</th>\n",
       "      <th>fips</th>\n",
       "    </tr>\n",
       "  </thead>\n",
       "  <tbody>\n",
       "    <tr>\n",
       "      <th>0</th>\n",
       "      <td>1</td>\n",
       "      <td>3</td>\n",
       "      <td>10</td>\n",
       "      <td>30.497478</td>\n",
       "      <td>-87.880258</td>\n",
       "      <td>NAD83</td>\n",
       "      <td>2019-02-28</td>\n",
       "      <td>Parts per million</td>\n",
       "      <td>None</td>\n",
       "      <td>1</td>\n",
       "      <td>6.0</td>\n",
       "      <td>0.013</td>\n",
       "      <td>0.013</td>\n",
       "      <td>23</td>\n",
       "      <td>12</td>\n",
       "      <td>FAIRHOPE, Alabama</td>\n",
       "      <td>FAIRHOPE HIGH SCHOOL, 1 PIRATE DRIVE, FAIRHOPE...</td>\n",
       "      <td>Alabama</td>\n",
       "      <td>Baldwin</td>\n",
       "      <td>Daphne-Fairhope-Foley, AL</td>\n",
       "      <td>01003</td>\n",
       "    </tr>\n",
       "  </tbody>\n",
       "</table>\n",
       "</div>"
      ],
      "text/plain": [
       "   State Code  County Code  Site Num   Latitude  Longitude  Datum  Date Local   Units of Measure Event Type  Observation Count  Observation Percent  Arithmetic Mean  1st Max Value  1st Max Hour  AQI    Local Site Name                                            Address State Name County Name                  CBSA Name   fips\n",
       "0           1            3        10  30.497478 -87.880258  NAD83  2019-02-28  Parts per million       None                  1                  6.0            0.013          0.013            23   12  FAIRHOPE, Alabama  FAIRHOPE HIGH SCHOOL, 1 PIRATE DRIVE, FAIRHOPE...    Alabama     Baldwin  Daphne-Fairhope-Foley, AL  01003"
      ]
     },
     "execution_count": 71,
     "metadata": {},
     "output_type": "execute_result"
    }
   ],
   "source": [
    "ozone19 = og_ozone19.drop(columns=cols_to_drop,axis=1)\n",
    "ozone20 = og_ozone20.drop(columns=cols_to_drop,axis=1)\n",
    "ozone21 = og_ozone21.drop(columns=cols_to_drop,axis=1)\n",
    "\n",
    "print('2019 ---> ',ozone19.shape,' 2020 ---> ',ozone20.shape,' 2021 ---> ',ozone21.shape,'\\n')\n",
    "print('Columns: ',ozone19.columns)\n",
    "ozone19.head(1)"
   ]
  },
  {
   "cell_type": "markdown",
   "id": "prostate-wayne",
   "metadata": {},
   "source": [
    "### ozone missing data with counts and %"
   ]
  },
  {
   "cell_type": "code",
   "execution_count": 72,
   "id": "eight-plastic",
   "metadata": {},
   "outputs": [
    {
     "name": "stdout",
     "output_type": "stream",
     "text": [
      "--- ozone 2019 missing: ---\n",
      "Local Site Name = 19144 -- Local Site Name = 4.88%\n",
      "CBSA Name = 41844 -- CBSA Name = 10.67%\n",
      "None\n",
      " \n",
      " --- ozone 2020 missing: ---\n",
      "Local Site Name = 19612 -- Local Site Name = 5.0%\n",
      "Address = 132 -- Address = 0.03%\n",
      "CBSA Name = 40854 -- CBSA Name = 10.42%\n",
      "None\n",
      "\n",
      " --- ozone 2021 missing: ---\n",
      "Local Site Name = 2842 -- Local Site Name = 7.54%\n",
      "CBSA Name = 5209 -- CBSA Name = 13.82%\n",
      "None\n"
     ]
    }
   ],
   "source": [
    "print('--- ozone 2019 missing: ---')\n",
    "print(cols_missing(ozone19))\n",
    "        \n",
    "print(' \\n --- ozone 2020 missing: ---')\n",
    "print(cols_missing(ozone20))\n",
    "\n",
    "print('\\n --- ozone 2021 missing: ---')\n",
    "print(cols_missing(ozone21))"
   ]
  },
  {
   "cell_type": "code",
   "execution_count": 46,
   "id": "quantitative-month",
   "metadata": {},
   "outputs": [],
   "source": [
    "#drop columns/rows or reduce memory"
   ]
  },
  {
   "cell_type": "markdown",
   "id": "level-legend",
   "metadata": {},
   "source": [
    "### ozone arithmetic mean outlier"
   ]
  },
  {
   "cell_type": "code",
   "execution_count": 73,
   "id": "correct-offer",
   "metadata": {},
   "outputs": [
    {
     "name": "stdout",
     "output_type": "stream",
     "text": [
      "ozone19: \n",
      "Arithmetic Mean\n",
      "Min:  -0.000667\n",
      "1st quartile:  0.024647\n",
      "3rd quartile:  0.039412\n",
      "Max:  0.098235\n",
      "None\n",
      "\n",
      " ozone20: \n",
      "Arithmetic Mean\n",
      "Min:  -0.0033\n",
      "1st quartile:  0.023235\n",
      "3rd quartile:  0.038059\n",
      "Max:  0.135529\n",
      "None\n",
      "\n",
      " ozone21: \n",
      "Arithmetic Mean\n",
      "Min:  0.0\n",
      "1st quartile:  0.024706\n",
      "3rd quartile:  0.037529\n",
      "Max:  0.106583\n",
      "None\n"
     ]
    }
   ],
   "source": [
    "#outliers\n",
    "outlier_check = ['Arithmetic Mean']\n",
    "\n",
    "for i in outlier_check:\n",
    "    print('ozone19: ');print(print_outliers(ozone19,i))\n",
    "    print('\\n ozone20: ');print(print_outliers(ozone20,i))\n",
    "    print('\\n ozone21: ');print(print_outliers(ozone21,i))"
   ]
  },
  {
   "cell_type": "code",
   "execution_count": null,
   "id": "blond-examination",
   "metadata": {},
   "outputs": [],
   "source": []
  },
  {
   "cell_type": "markdown",
   "id": "moving-irrigation",
   "metadata": {},
   "source": [
    "### county mean"
   ]
  },
  {
   "cell_type": "code",
   "execution_count": 74,
   "id": "automatic-tunisia",
   "metadata": {},
   "outputs": [],
   "source": [
    "pm19_county_mean= pm19.groupby(['Date Local','fips']).agg({'Arithmetic Mean':'mean'})\n",
    "pm20_county_mean= pm20.groupby(['Date Local','fips']).agg({'Arithmetic Mean':'mean'})\n",
    "pm21_county_mean= pm21.groupby(['Date Local','fips']).agg({'Arithmetic Mean':'mean'})\n",
    "\n",
    "lead19_county_mean= lead19.groupby(['Date Local','fips']).agg({'Arithmetic Mean':'mean'})\n",
    "lead20_county_mean= lead20.groupby(['Date Local','fips']).agg({'Arithmetic Mean':'mean'})\n",
    "lead21_county_mean= lead21.groupby(['Date Local','fips']).agg({'Arithmetic Mean':'mean'})\n",
    "\n",
    "ozone19_county_mean= ozone19.groupby(['Date Local','fips']).agg({'Arithmetic Mean':'mean'})\n",
    "ozone20_county_mean= ozone20.groupby(['Date Local','fips']).agg({'Arithmetic Mean':'mean'})\n",
    "ozone21_county_mean= ozone21.groupby(['Date Local','fips']).agg({'Arithmetic Mean':'mean'})"
   ]
  },
  {
   "cell_type": "code",
   "execution_count": null,
   "id": "blond-plumbing",
   "metadata": {},
   "outputs": [],
   "source": []
  },
  {
   "cell_type": "markdown",
   "id": "geographic-psychology",
   "metadata": {},
   "source": [
    "### squash and reindex\n",
    "    - drop 1st max for lead or would it be useful?"
   ]
  },
  {
   "cell_type": "code",
   "execution_count": 113,
   "id": "aggressive-portrait",
   "metadata": {},
   "outputs": [],
   "source": [
    "pm19_county_means = avg_county_pollution(pm19).drop(['1st Max Value'],axis=1).reset_index().groupby(['fips']).mean()\n",
    "pm20_county_means = avg_county_pollution(pm20).drop(['1st Max Value'],axis=1).reset_index().groupby(['fips']).mean()\n",
    "pm21_county_means = avg_county_pollution(pm21).drop(['1st Max Value'],axis=1).reset_index().groupby(['fips']).mean()\n",
    "\n",
    "# drop 1st max?\n",
    "lead19_county_means = avg_county_pollution(lead19).reset_index().groupby(['fips']).mean()\n",
    "lead20_county_means = avg_county_pollution(lead20).reset_index().groupby(['fips']).mean()\n",
    "lead21_county_means = avg_county_pollution(lead21).reset_index().groupby(['fips']).mean()\n",
    "\n",
    "ozone19_county_means = avg_county_pollution(ozone19).drop(['1st Max Value'],axis=1).reset_index().groupby(['fips']).mean()\n",
    "ozone20_county_means = avg_county_pollution(ozone20).drop(['1st Max Value'],axis=1).reset_index().groupby(['fips']).mean()\n",
    "ozone21_county_means = avg_county_pollution(ozone21).drop(['1st Max Value'],axis=1).reset_index().groupby(['fips']).mean()"
   ]
  },
  {
   "cell_type": "code",
   "execution_count": null,
   "id": "specialized-prague",
   "metadata": {},
   "outputs": [],
   "source": []
  },
  {
   "cell_type": "markdown",
   "id": "instrumental-piano",
   "metadata": {},
   "source": [
    "### convert to dictionary\n",
    "    - can only do for pm and ozone, lead doesn't have an AQI"
   ]
  },
  {
   "cell_type": "code",
   "execution_count": 109,
   "id": "banner-sampling",
   "metadata": {},
   "outputs": [
    {
     "data": {
      "text/plain": [
       "9.184634086235137"
      ]
     },
     "execution_count": 109,
     "metadata": {},
     "output_type": "execute_result"
    }
   ],
   "source": [
    "# pm25\n",
    "\n",
    "pm19_county_means.rename(columns={'Arithmetic Mean':'mean_ppb','AQI':'mean_AQI'},inplace=True)\n",
    "pm20_county_means.rename(columns={'Arithmetic Mean':'mean_ppb','AQI':'mean_AQI'},inplace=True)\n",
    "pm21_county_means.rename(columns={'Arithmetic Mean':'mean_ppb','AQI':'mean_AQI'},inplace=True)\n",
    "\n",
    "pm19_county_benchmarks = pm19_county_means.to_dict('index')\n",
    "pm20_county_benchmarks = pm20_county_means.to_dict('index')\n",
    "pm21_county_benchmarks = pm21_county_means.to_dict('index')\n",
    "\n",
    "pm20_county_benchmarks['04013']['mean_ppb']"
   ]
  },
  {
   "cell_type": "code",
   "execution_count": 115,
   "id": "wireless-balance",
   "metadata": {},
   "outputs": [
    {
     "data": {
      "text/plain": [
       "0.011845410628019323"
      ]
     },
     "execution_count": 115,
     "metadata": {},
     "output_type": "execute_result"
    }
   ],
   "source": [
    "# lead\n",
    "\n",
    "lead19_county_means.rename(columns={'Arithmetic Mean':'mean_ppb','AQI':'mean_AQI'},inplace=True)\n",
    "lead20_county_means.rename(columns={'Arithmetic Mean':'mean_ppb','AQI':'mean_AQI'},inplace=True)\n",
    "lead21_county_means.rename(columns={'Arithmetic Mean':'mean_ppb','AQI':'mean_AQI'},inplace=True)\n",
    "\n",
    "lead19_county_benchmarks = lead19_county_means.to_dict('index')\n",
    "lead20_county_benchmarks = lead20_county_means.to_dict('index')\n",
    "lead21_county_benchmarks = lead21_county_means.to_dict('index')\n",
    "\n",
    "lead20_county_benchmarks['04007']['mean_ppb']"
   ]
  },
  {
   "cell_type": "code",
   "execution_count": 111,
   "id": "personal-keyboard",
   "metadata": {},
   "outputs": [
    {
     "data": {
      "text/plain": [
       "0.03571577303061661"
      ]
     },
     "execution_count": 111,
     "metadata": {},
     "output_type": "execute_result"
    }
   ],
   "source": [
    "# ozone\n",
    "\n",
    "ozone19_county_means.rename(columns={'Arithmetic Mean':'mean_ppb','AQI':'mean_AQI'},inplace=True)\n",
    "ozone20_county_means.rename(columns={'Arithmetic Mean':'mean_ppb','AQI':'mean_AQI'},inplace=True)\n",
    "ozone21_county_means.rename(columns={'Arithmetic Mean':'mean_ppb','AQI':'mean_AQI'},inplace=True)\n",
    "\n",
    "ozone19_county_benchmarks = ozone19_county_means.to_dict('index')\n",
    "ozone20_county_benchmarks = ozone20_county_means.to_dict('index')\n",
    "ozone21_county_benchmarks = ozone21_county_means.to_dict('index')\n",
    "\n",
    "ozone20_county_benchmarks['04013']['mean_ppb']"
   ]
  },
  {
   "cell_type": "code",
   "execution_count": 99,
   "id": "utility-recipe",
   "metadata": {},
   "outputs": [],
   "source": [
    "\n",
    "def check_level(df, averages, delta=0):\n",
    "    \"\"\"Return dictonary with higher than average ppb for each fips code.\n",
    "    \n",
    "    \n",
    "    Parameters:\n",
    "    \n",
    "    df -- single full dataframe\n",
    "    averages -- dict of structure fips:(mean_ppb, AQI)\n",
    "    delta -- ppb difference to flag, default = 0\n",
    "    \n",
    "    The averages dictionary should have one entry per fips code, \n",
    "            giving the average concentration for that county.\n",
    "    \n",
    "    Return:\n",
    "    peaks -- dict of structure fips:[dates]\n",
    "    \"\"\"\n",
    "    \n",
    "    targets = {}\n",
    "    for fipc in list(averages.keys()):\n",
    "        df[df['fips']==fipc]\n",
    "        peak_df = df[(df['fips']==fipc) & (df['Arithmetic Mean'] >= (averages[fipc]['mean_ppb'] + delta))]\n",
    "        targets[fipc] = peak_df[['Date Local','Arithmetic Mean']].to_dict()\n",
    "    return targets"
   ]
  },
  {
   "cell_type": "markdown",
   "id": "blind-marsh",
   "metadata": {},
   "source": [
    "### cross ref keys"
   ]
  },
  {
   "cell_type": "code",
   "execution_count": 119,
   "id": "prostate-frame",
   "metadata": {},
   "outputs": [
    {
     "name": "stdout",
     "output_type": "stream",
     "text": [
      "Number of pm19 keys:  634\n",
      "Number of pm20 keys:  626\n",
      "Number of pm21 keys:  308\n"
     ]
    }
   ],
   "source": [
    "#pm19\n",
    "\n",
    "pm19_to_ref = check_level(pm19,pm19_county_benchmarks,delta=5)\n",
    "pm20_to_ref = check_level(pm20,pm20_county_benchmarks,delta=5)\n",
    "pm21_to_ref = check_level(pm21,pm21_county_benchmarks,delta=5)\n",
    "\n",
    "pm19_cref_keys = list(pm19_to_ref.keys())\n",
    "pm20_cref_keys = list(pm20_to_ref.keys())\n",
    "pm21_cref_keys = list(pm21_to_ref.keys())\n",
    "\n",
    "print('Number of pm19 keys: ',len(pm19_cref_keys))\n",
    "print('Number of pm20 keys: ',len(pm20_cref_keys))\n",
    "print('Number of pm21 keys: ',len(pm21_cref_keys))"
   ]
  },
  {
   "cell_type": "code",
   "execution_count": 120,
   "id": "cooked-roman",
   "metadata": {},
   "outputs": [
    {
     "name": "stdout",
     "output_type": "stream",
     "text": [
      "Number of lead19 keys:  80\n",
      "Number of lead20 keys:  71\n",
      "Number of lead21 keys:  19\n"
     ]
    }
   ],
   "source": [
    "#lead \n",
    "\n",
    "lead19_to_ref = check_level(lead19,lead19_county_benchmarks,delta=5)\n",
    "lead20_to_ref = check_level(lead20,lead20_county_benchmarks,delta=5)\n",
    "lead21_to_ref = check_level(lead21,lead21_county_benchmarks,delta=5)\n",
    "\n",
    "lead19_cref_keys = list(lead19_to_ref.keys())\n",
    "lead20_cref_keys = list(lead20_to_ref.keys())\n",
    "lead21_cref_keys = list(lead21_to_ref.keys())\n",
    "\n",
    "print('Number of lead19 keys: ',len(lead19_cref_keys))\n",
    "print('Number of lead20 keys: ',len(lead20_cref_keys))\n",
    "print('Number of lead21 keys: ',len(lead21_cref_keys))"
   ]
  },
  {
   "cell_type": "code",
   "execution_count": 121,
   "id": "altered-thesaurus",
   "metadata": {},
   "outputs": [
    {
     "name": "stdout",
     "output_type": "stream",
     "text": [
      "Number of ozone19 keys:  776\n",
      "Number of ozone20 keys:  767\n",
      "Number of ozone21 keys:  408\n"
     ]
    }
   ],
   "source": [
    "#ozone\n",
    "ozone19_to_ref = check_level(ozone19,ozone19_county_benchmarks,delta=5)\n",
    "ozone20_to_ref = check_level(ozone20,ozone20_county_benchmarks,delta=5)\n",
    "ozone21_to_ref = check_level(ozone21,ozone21_county_benchmarks,delta=5)\n",
    "\n",
    "ozone19_cref_keys = list(ozone19_to_ref.keys())\n",
    "ozone20_cref_keys = list(ozone20_to_ref.keys())\n",
    "ozone21_cref_keys = list(ozone21_to_ref.keys())\n",
    "\n",
    "print('Number of ozone19 keys: ',len(ozone19_cref_keys))\n",
    "print('Number of ozone20 keys: ',len(ozone20_cref_keys))\n",
    "print('Number of ozone21 keys: ',len(ozone21_cref_keys))"
   ]
  },
  {
   "cell_type": "markdown",
   "id": "graphic-lighting",
   "metadata": {},
   "source": [
    "### Notes:\n",
    "    - Not to much data for lead, plus aqi isn't recorded for it"
   ]
  },
  {
   "cell_type": "markdown",
   "id": "saved-nepal",
   "metadata": {},
   "source": [
    "### Next steps:\n",
    "    - started a new notebook for it\n",
    "    - going to find correlations between covid and pollutants above\n",
    "    - attempt to find way to compare lead"
   ]
  },
  {
   "cell_type": "code",
   "execution_count": null,
   "id": "cordless-roots",
   "metadata": {},
   "outputs": [],
   "source": []
  }
 ],
 "metadata": {
  "kernelspec": {
   "display_name": "Python 3",
   "language": "python",
   "name": "python3"
  },
  "language_info": {
   "codemirror_mode": {
    "name": "ipython",
    "version": 3
   },
   "file_extension": ".py",
   "mimetype": "text/x-python",
   "name": "python",
   "nbconvert_exporter": "python",
   "pygments_lexer": "ipython3",
   "version": "3.8.4"
  }
 },
 "nbformat": 4,
 "nbformat_minor": 5
}
